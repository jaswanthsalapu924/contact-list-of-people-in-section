{
 "cells": [
  {
   "cell_type": "code",
   "execution_count": null,
   "metadata": {},
   "outputs": [],
   "source": [
    "# Importing the required modules\n",
    "import sys\n",
    "\n",
    "# Defining the main function\n",
    "def main():\n",
    "    '''This is the main function'''\n",
    "    # Getting the user input\n",
    "    name = input('Enter the name: ')\n",
    "    # Calling the function to get the contact number\n",
    "    contact_number = contact_list(name)\n",
    "    # Printing the contact number\n",
    "    print(contact_number)\n",
    "\n",
    "# Defining the function to get the contact number\n",
    "def contact_list(name):\n",
    "    '''This function gets the contact number'''\n",
    "    # Getting the contact list\n",
    "    contact_list = {\n",
    "        'Parth': '7058160804',\n",
    "        'Gourab': '8101239407',\n",
    "        'Zeshan': '7488160308',\n",
    "        'Abhilash': '8074045782',\n",
    "        'Lohith': '9059122027',\n",
    "        'Koustav': '8638460986',\n",
    "        'Abubakar': '7479688836',\n",
    "        'Issar': '7717362835',\n",
    "        'Jayanth': '6305860400',\n",
    "        'Dhru': '9664843898',\n",
    "        'Udaya': '9866468055',\n",
    "        'Dhanush': '8688180745',\n",
    "        'Srinivas': '9849573976',\n",
    "        'Driti': '9573494194',\n",
    "        'Shivaprasad': '8179405661',\n",
    "        'Sairaj': '8688795575',\n",
    "        'Anirudhreddy': '6303124746',\n",
    "        'Atul': '7736263033',\n",
    "        'Gnaneswar': '9949887999',\n",
    "        'Bhairav Lokesh': '9347789199',\n",
    "        'Sumit': '6284345724',\n",
    "        'Yashaswee Kesharwani': '6387408210',\n",
    "        'Ritik Singh Tomar': '9179382202',\n",
    "        'Satheesh': '9392865005',\n",
    "        'Ahiyansh': '7023250700',\n",
    "        'Tanushree': '9555136726',\n",
    "        'Rohit Varma': '8885944455',\n",
    "        'Shivani': '8688484719',\n",
    "        'Chennakeshava Reddy': '8498960460',\n",
    "        'Adithya Mohan': '9562690274',\n",
    "        'Karthikeyan': '7736262145',\n",
    "        'Vikash': '9063097987',\n",
    "        'Parth Sharma': '9174679781',\n",
    "        'Nagul': '6380103677',\n",
    "        'Nandini': '7876701187',\n",
    "        'Anjali': '7973137924',\n",
    "        'Pulkit': '9906706286',\n",
    "        'Aryan': ' 9897021775',\n",
    "        'Anna': '9115989209',\n",
    "        'Shaksam': '8279319505',\n",
    "        'Lokendhra': '6305348898',\n",
    "        'Hemansh': '8790798855',\n",
    "    }\n",
    "    # Getting the contact number    \n",
    "    contact_number = contact_list[name]\n",
    "    # Returning the contact number\n",
    "    return contact_number\n",
    "\n",
    "# Calling the main function\n",
    "if __name__ == '__main__':\n",
    "    main()\n",
    "print(\"This is the contact number of the person you searched\")"
   ]
  }
 ],
 "metadata": {
  "kernelspec": {
   "display_name": "Python 3.10.6 64-bit",
   "language": "python",
   "name": "python3"
  },
  "language_info": {
   "codemirror_mode": {
    "name": "ipython",
    "version": 3
   },
   "file_extension": ".py",
   "mimetype": "text/x-python",
   "name": "python",
   "nbconvert_exporter": "python",
   "pygments_lexer": "ipython3",
   "version": "3.10.6"
  },
  "orig_nbformat": 4,
  "vscode": {
   "interpreter": {
    "hash": "c7af7df4901773a0e355da496bf365ae011b1b331a57bbc9908dae1ee21823d7"
   }
  }
 },
 "nbformat": 4,
 "nbformat_minor": 2
}
